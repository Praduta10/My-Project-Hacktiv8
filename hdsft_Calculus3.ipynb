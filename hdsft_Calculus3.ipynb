{
 "cells": [
  {
   "cell_type": "markdown",
   "id": "f48ad771",
   "metadata": {},
   "source": [
    "Gradien dari Fungsi :\n",
    "\n",
    "3x+4y = 5"
   ]
  },
  {
   "cell_type": "code",
   "execution_count": 1,
   "id": "17c0fb54",
   "metadata": {},
   "outputs": [],
   "source": [
    "import numpy as np\n",
    "import sympy as sy\n",
    "from sympy.tensor.array import derive_by_array\n",
    "from sympy import hessian, symbols"
   ]
  },
  {
   "cell_type": "code",
   "execution_count": 2,
   "id": "47c0e8e9",
   "metadata": {},
   "outputs": [
    {
     "data": {
      "text/latex": [
       "$\\displaystyle \\left[\\begin{matrix}3 & 4\\end{matrix}\\right]$"
      ],
      "text/plain": [
       "[3, 4]"
      ]
     },
     "execution_count": 2,
     "metadata": {},
     "output_type": "execute_result"
    }
   ],
   "source": [
    "x, y, z = sy.symbols('x y z', real = True)\n",
    "c=3*x+4*y-5\n",
    "derive_by_array(c,(x,y))"
   ]
  },
  {
   "cell_type": "markdown",
   "id": "ba4179e2",
   "metadata": {},
   "source": [
    "Jadi gradien dari 3x+4y=5 adalah [3,4]"
   ]
  }
 ],
 "metadata": {
  "kernelspec": {
   "display_name": "Python 3",
   "language": "python",
   "name": "python3"
  },
  "language_info": {
   "codemirror_mode": {
    "name": "ipython",
    "version": 3
   },
   "file_extension": ".py",
   "mimetype": "text/x-python",
   "name": "python",
   "nbconvert_exporter": "python",
   "pygments_lexer": "ipython3",
   "version": "3.8.8"
  }
 },
 "nbformat": 4,
 "nbformat_minor": 5
}
