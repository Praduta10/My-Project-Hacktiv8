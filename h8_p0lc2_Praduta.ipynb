{
  "nbformat": 4,
  "nbformat_minor": 0,
  "metadata": {
    "colab": {
      "name": "h8_p0lc2_Praduta.ipynb",
      "provenance": [],
      "collapsed_sections": []
    },
    "kernelspec": {
      "name": "python3",
      "display_name": "Python 3"
    },
    "language_info": {
      "name": "python"
    }
  },
  "cells": [
    {
      "cell_type": "markdown",
      "metadata": {
        "id": "7SK7Wq8We0kX"
      },
      "source": [
        "1.Perkenalan\n",
        "\n",
        "Nama: Praduta Firman\n",
        "\n",
        "Live Code 2"
      ]
    },
    {
      "cell_type": "markdown",
      "metadata": {
        "id": "0a2xrkF2hofo"
      },
      "source": [
        "2. Judul\n",
        "\n",
        "Promblems\n",
        "\n",
        "\n",
        "1. Diketahui toko buah X menjual 10 produk dengan label nama A-J. Data penjualan serta pendapatan total toko X selalu dicatat setiap harinya dan berikut data penjualan 10 hari terakhir:\n",
        "\n",
        "\n",
        "Hari ke-\tA\tB\tC\tD\tE\tF\tG\tH\tI\tJ\tPendapatan\n",
        "1\t14\t19\t2\t44\t9\t1\t3\t40\t17\t22\t1402500\n",
        "2\t7\t26\t26\t24\t54\t2\t2\t4\t22\t18\t2325000\n",
        "3\t37\t54\t1\t43\t46\t23\t37\t36\t18\t17\t3307000\n",
        "4\t19\t19\t45\t41\t43\t21\t38\t51\t56\t37\t4077000\n",
        "5\t47\t28\t50\t10\t44\t54\t3\t47\t2\t21\t3998000\n",
        "6\t12\t41\t31\t25\t44\t13\t16\t9\t47\t3\t2674500\n",
        "7\t20\t19\t53\t56\t34\t6\t60\t37\t35\t49\t4014000\n",
        "8\t60\t44\t1\t16\t9\t24\t55\t55\t30\t10\t2754500\n",
        "9\t41\t55\t50\t28\t59\t54\t40\t9\t45\t34\t5511500\n",
        "10\t14\t11\t39\t2\t26\t17\t51\t19\t38\t39\t3338500st item\n",
        "\n",
        "Berapa harga masing-masing produk A-J?\n",
        "\n",
        "\n"
      ]
    },
    {
      "cell_type": "markdown",
      "metadata": {
        "id": "KddBchlJgDbe"
      },
      "source": [
        "3. Import Pustaka\n"
      ]
    },
    {
      "cell_type": "code",
      "metadata": {
        "id": "L1tSQqqUhGPu"
      },
      "source": [
        "import pandas as pd\n",
        "import numpy as np\n",
        "import sympy as sy"
      ],
      "execution_count": 11,
      "outputs": []
    },
    {
      "cell_type": "code",
      "metadata": {
        "id": "-HhocBxdhQB7"
      },
      "source": [
        "hari1 = np.array([[14,19,2,44,9,1,3,40,17,22,1402500],\n",
        "                  [7,26,26,24,54,2,2,4,22,18,2325000],\n",
        "                  [37,54,1,43,46,23,37,36,18,17,3307000],\n",
        "                  [19,19,45,41,43,21,38,51,56,37,4077000],\n",
        "                  [47,28,50,10,44,54,3,47,2,21,3998000],\n",
        "                  [12,41,31,25,44,13,16,9,47,3,2674500],\n",
        "                  [20,19,53,56,34,6,60,37,35,49,4014000],\n",
        "                  [60,44,1,16,9,24,55,55,30,10,2754500],\n",
        "                  [41,55,50,28,59,54,40,9,45,34,5511500],\n",
        "                  [14,11,39,2,26,17,51,19,38,39,3338500]])"
      ],
      "execution_count": 14,
      "outputs": []
    },
    {
      "cell_type": "code",
      "metadata": {
        "colab": {
          "base_uri": "https://localhost:8080/"
        },
        "id": "_VkBAMPhm1Dc",
        "outputId": "312f4295-4088-44d7-99eb-c1b4f9adbdea"
      },
      "source": [
        "a = np.array([[14,7,37,19,47,12,20,60,41,14]])\n",
        "b = np.array([[19,26,54,19,28,41,19,44,55,11]])\n",
        "c = np.array([[2,26,1,45,50,31,53,1,50,39]])\n",
        "d = np.array([[44,24,43,41,10,25,56,16,28,2]])\n",
        "e = np.array([[9,54,46,43,44,44,34,24,59,26]])\n",
        "f = np.array([[1,2,23,21,54,13,6,24,54,17]])\n",
        "g = np.array([[3,2,37,38,3,16,60,55,40,51]])\n",
        "h = np.array([[40,4,36,51,47,9,37,55,9,19]])\n",
        "i = np.array([[17,22,18,56,2,47,35,30,45,38]])\n",
        "j = np.array([[22,18,17,37,21,3,49,10,34,39]])\n",
        "\n",
        "a"
      ],
      "execution_count": 84,
      "outputs": [
        {
          "output_type": "execute_result",
          "data": {
            "text/plain": [
              "array([[14,  7, 37, 19, 47, 12, 20, 60, 41, 14]])"
            ]
          },
          "metadata": {
            "tags": []
          },
          "execution_count": 84
        }
      ]
    },
    {
      "cell_type": "code",
      "metadata": {
        "colab": {
          "base_uri": "https://localhost:8080/"
        },
        "id": "2RyBYa2Q1wbf",
        "outputId": "808a85ce-1683-4b7c-e008-45d6e12062ae"
      },
      "source": [
        "b"
      ],
      "execution_count": 67,
      "outputs": [
        {
          "output_type": "execute_result",
          "data": {
            "text/plain": [
              "array([[19, 26, 54, 19, 28, 41, 19, 44, 55, 11]])"
            ]
          },
          "metadata": {
            "tags": []
          },
          "execution_count": 67
        }
      ]
    },
    {
      "cell_type": "code",
      "metadata": {
        "colab": {
          "base_uri": "https://localhost:8080/"
        },
        "id": "BBL6FqEF1yxQ",
        "outputId": "c2c47972-7777-4496-bb1d-8298a58e0b72"
      },
      "source": [
        "c"
      ],
      "execution_count": 68,
      "outputs": [
        {
          "output_type": "execute_result",
          "data": {
            "text/plain": [
              "array([[ 2, 26,  1, 45, 50, 31, 53,  1, 50, 39]])"
            ]
          },
          "metadata": {
            "tags": []
          },
          "execution_count": 68
        }
      ]
    },
    {
      "cell_type": "code",
      "metadata": {
        "colab": {
          "base_uri": "https://localhost:8080/"
        },
        "id": "_9IGq2OB10gd",
        "outputId": "cbf6e0e0-de0b-4b94-8923-641962db2f9a"
      },
      "source": [
        "d"
      ],
      "execution_count": 69,
      "outputs": [
        {
          "output_type": "execute_result",
          "data": {
            "text/plain": [
              "array([[44, 24, 43, 41, 10, 25, 56, 16, 28,  2]])"
            ]
          },
          "metadata": {
            "tags": []
          },
          "execution_count": 69
        }
      ]
    },
    {
      "cell_type": "code",
      "metadata": {
        "colab": {
          "base_uri": "https://localhost:8080/"
        },
        "id": "5eMVgmli12Jp",
        "outputId": "af067fd2-6339-463c-c02c-b1d0f27e0bb3"
      },
      "source": [
        "e"
      ],
      "execution_count": 70,
      "outputs": [
        {
          "output_type": "execute_result",
          "data": {
            "text/plain": [
              "array([[ 9, 54, 46, 43, 44, 44, 34, 24, 59, 26]])"
            ]
          },
          "metadata": {
            "tags": []
          },
          "execution_count": 70
        }
      ]
    },
    {
      "cell_type": "code",
      "metadata": {
        "colab": {
          "base_uri": "https://localhost:8080/"
        },
        "id": "apg2mrKA1325",
        "outputId": "4c682d2c-2bde-44b8-f74c-d834d108e664"
      },
      "source": [
        "f"
      ],
      "execution_count": 71,
      "outputs": [
        {
          "output_type": "execute_result",
          "data": {
            "text/plain": [
              "array([[ 1,  2, 23, 21, 54, 13,  6, 24, 54, 17]])"
            ]
          },
          "metadata": {
            "tags": []
          },
          "execution_count": 71
        }
      ]
    },
    {
      "cell_type": "code",
      "metadata": {
        "colab": {
          "base_uri": "https://localhost:8080/"
        },
        "id": "IGE33JMA15QW",
        "outputId": "da6ecd06-a9df-4a2a-9bdf-d41bd0b3e901"
      },
      "source": [
        "g"
      ],
      "execution_count": 72,
      "outputs": [
        {
          "output_type": "execute_result",
          "data": {
            "text/plain": [
              "array([[ 3,  2, 37, 38,  3, 16, 60, 55, 40, 51]])"
            ]
          },
          "metadata": {
            "tags": []
          },
          "execution_count": 72
        }
      ]
    },
    {
      "cell_type": "code",
      "metadata": {
        "colab": {
          "base_uri": "https://localhost:8080/"
        },
        "id": "FA03o_mn16T_",
        "outputId": "b0fd976e-e77c-4be1-cfe4-5992e9188822"
      },
      "source": [
        "h"
      ],
      "execution_count": 73,
      "outputs": [
        {
          "output_type": "execute_result",
          "data": {
            "text/plain": [
              "array([[40,  4, 36, 51, 47,  9, 37, 55,  9, 19]])"
            ]
          },
          "metadata": {
            "tags": []
          },
          "execution_count": 73
        }
      ]
    },
    {
      "cell_type": "code",
      "metadata": {
        "colab": {
          "base_uri": "https://localhost:8080/"
        },
        "id": "D5axcxSG17tj",
        "outputId": "a2779b10-33bf-48df-9569-330bbf386bba"
      },
      "source": [
        "i"
      ],
      "execution_count": 74,
      "outputs": [
        {
          "output_type": "execute_result",
          "data": {
            "text/plain": [
              "array([[17, 22, 18, 56,  2, 47, 35, 30, 45, 38]])"
            ]
          },
          "metadata": {
            "tags": []
          },
          "execution_count": 74
        }
      ]
    },
    {
      "cell_type": "code",
      "metadata": {
        "colab": {
          "base_uri": "https://localhost:8080/"
        },
        "id": "DZynDmxX183m",
        "outputId": "7840c91a-722c-4a05-abfa-9f053b8cd0e9"
      },
      "source": [
        "j"
      ],
      "execution_count": 75,
      "outputs": [
        {
          "output_type": "execute_result",
          "data": {
            "text/plain": [
              "array([[22, 18, 17, 37, 21,  3, 49, 10, 34, 39]])"
            ]
          },
          "metadata": {
            "tags": []
          },
          "execution_count": 75
        }
      ]
    },
    {
      "cell_type": "code",
      "metadata": {
        "id": "qQv-JVZ5qUZN"
      },
      "source": [
        "a\n",
        "b\n",
        "c\n",
        "d\n",
        "e\n",
        "f\n",
        "g\n",
        "h\n",
        "i\n",
        "j\n",
        "unique, counts = np.unique(a, return_counts=True)"
      ],
      "execution_count": 76,
      "outputs": []
    },
    {
      "cell_type": "code",
      "metadata": {
        "colab": {
          "base_uri": "https://localhost:8080/"
        },
        "id": "ffF34Ryordon",
        "outputId": "28ac269a-87d1-4599-a040-74a7c40c4dce"
      },
      "source": [
        "  OBE = sy.Matrix(a)\n",
        "  OBE.rref()"
      ],
      "execution_count": 77,
      "outputs": [
        {
          "output_type": "execute_result",
          "data": {
            "text/plain": [
              "(Matrix([[1, 1/2, 37/14, 19/14, 47/14, 6/7, 10/7, 30/7, 41/14, 1]]), (0,))"
            ]
          },
          "metadata": {
            "tags": []
          },
          "execution_count": 77
        }
      ]
    },
    {
      "cell_type": "code",
      "metadata": {
        "colab": {
          "base_uri": "https://localhost:8080/"
        },
        "id": "tnyO_or9qWs_",
        "outputId": "1dacd070-0880-465e-d64b-b42f95d89066"
      },
      "source": [
        "a.T"
      ],
      "execution_count": 78,
      "outputs": [
        {
          "output_type": "execute_result",
          "data": {
            "text/plain": [
              "array([[14],\n",
              "       [ 7],\n",
              "       [37],\n",
              "       [19],\n",
              "       [47],\n",
              "       [12],\n",
              "       [20],\n",
              "       [60],\n",
              "       [41],\n",
              "       [14]])"
            ]
          },
          "metadata": {
            "tags": []
          },
          "execution_count": 78
        }
      ]
    },
    {
      "cell_type": "code",
      "metadata": {
        "colab": {
          "base_uri": "https://localhost:8080/"
        },
        "id": "oE6sqwer6I4X",
        "outputId": "79328538-d875-4c40-c4fa-3d184bae7dac"
      },
      "source": [
        "a.sum()"
      ],
      "execution_count": 106,
      "outputs": [
        {
          "output_type": "execute_result",
          "data": {
            "text/plain": [
              "257"
            ]
          },
          "metadata": {
            "tags": []
          },
          "execution_count": 106
        }
      ]
    },
    {
      "cell_type": "code",
      "metadata": {
        "colab": {
          "base_uri": "https://localhost:8080/"
        },
        "id": "18znHbFR6Lx-",
        "outputId": "abe44b50-83c6-416d-9516-8be2a44e70a8"
      },
      "source": [
        "b.sum()"
      ],
      "execution_count": 107,
      "outputs": [
        {
          "output_type": "execute_result",
          "data": {
            "text/plain": [
              "316"
            ]
          },
          "metadata": {
            "tags": []
          },
          "execution_count": 107
        }
      ]
    },
    {
      "cell_type": "code",
      "metadata": {
        "colab": {
          "base_uri": "https://localhost:8080/"
        },
        "id": "z2QQuX3uqsCm",
        "outputId": "d9080347-d45e-4c4a-b157-88b7d99e58c0"
      },
      "source": [
        "b = np.array([[19,26,54,19,28,41,19,44,55,11]])\n",
        "ab = sy.Matrix(b)\n",
        "ab.rref()"
      ],
      "execution_count": 79,
      "outputs": [
        {
          "output_type": "execute_result",
          "data": {
            "text/plain": [
              "(Matrix([[1, 26/19, 54/19, 1, 28/19, 41/19, 1, 44/19, 55/19, 11/19]]), (0,))"
            ]
          },
          "metadata": {
            "tags": []
          },
          "execution_count": 79
        }
      ]
    },
    {
      "cell_type": "code",
      "metadata": {
        "colab": {
          "base_uri": "https://localhost:8080/"
        },
        "id": "ii5q10My2JVt",
        "outputId": "1d7c661c-479b-46f4-df58-286aabda8f39"
      },
      "source": [
        "np.linalg.norm(a)"
      ],
      "execution_count": 80,
      "outputs": [
        {
          "output_type": "execute_result",
          "data": {
            "text/plain": [
              "101.01980003939822"
            ]
          },
          "metadata": {
            "tags": []
          },
          "execution_count": 80
        }
      ]
    },
    {
      "cell_type": "markdown",
      "metadata": {
        "id": "vqO-EXdYeuDi"
      },
      "source": [
        "4. Data Loading"
      ]
    },
    {
      "cell_type": "markdown",
      "metadata": {
        "id": "RwKtaCZc4qcL"
      },
      "source": [
        "Soal 1 :"
      ]
    },
    {
      "cell_type": "code",
      "metadata": {
        "colab": {
          "base_uri": "https://localhost:8080/"
        },
        "id": "EQVOJa6ixQlf",
        "outputId": "a150d254-2a27-4c1f-f2ca-25e40ef7d6db"
      },
      "source": [
        "a = np.array(counts)\n",
        "a"
      ],
      "execution_count": 81,
      "outputs": [
        {
          "output_type": "execute_result",
          "data": {
            "text/plain": [
              "array([1, 1, 2, 1, 1, 1, 1, 1, 1])"
            ]
          },
          "metadata": {
            "tags": []
          },
          "execution_count": 81
        }
      ]
    },
    {
      "cell_type": "code",
      "metadata": {
        "id": "zeO7C6fv2TBr"
      },
      "source": [
        "\n",
        "a=np.array([[14,7,37],\n",
        "          [19,47,12],\n",
        "          [20,60,41]])\n",
        "eigVal,eigVec=np.linalg.eig(a)\n"
      ],
      "execution_count": 91,
      "outputs": []
    },
    {
      "cell_type": "markdown",
      "metadata": {
        "id": "DBLUN0FaxgVT"
      },
      "source": [
        "2. Menggunakan konsep integral, tentukan luas negara Swiss jika diketahui koordinat batas-batasnya! Dataset koordinat batas Swiss dapat diakses pada link berikut: https://raw.githubusercontent.com/fahmimnalfrzki/Dataset/main/Swiss_boundaries.txt?token=AEZDEHXBTS7OMF32RTYPKZDA2FELA"
      ]
    },
    {
      "cell_type": "markdown",
      "metadata": {
        "id": "BaBq6ZaB4vAV"
      },
      "source": [
        "Soal 2 :"
      ]
    },
    {
      "cell_type": "code",
      "metadata": {
        "colab": {
          "base_uri": "https://localhost:8080/",
          "height": 417
        },
        "id": "X_Lw72Xf7NYD",
        "outputId": "f80616bc-72d9-4d28-aca3-de6d80379afa"
      },
      "source": [
        "df = pd.read_csv('https://raw.githubusercontent.com/fahmimnalfrzki/Dataset/main/Swiss_boundaries.txt?token=AEZDEHXBTS7OMF32RTYPKZDA2FELA')\n",
        "df"
      ],
      "execution_count": 124,
      "outputs": [
        {
          "output_type": "execute_result",
          "data": {
            "text/html": [
              "<div>\n",
              "<style scoped>\n",
              "    .dataframe tbody tr th:only-of-type {\n",
              "        vertical-align: middle;\n",
              "    }\n",
              "\n",
              "    .dataframe tbody tr th {\n",
              "        vertical-align: top;\n",
              "    }\n",
              "\n",
              "    .dataframe thead th {\n",
              "        text-align: right;\n",
              "    }\n",
              "</style>\n",
              "<table border=\"1\" class=\"dataframe\">\n",
              "  <thead>\n",
              "    <tr style=\"text-align: right;\">\n",
              "      <th></th>\n",
              "      <th>longitude</th>\n",
              "      <th>latitude</th>\n",
              "    </tr>\n",
              "  </thead>\n",
              "  <tbody>\n",
              "    <tr>\n",
              "      <th>0</th>\n",
              "      <td>9.56672</td>\n",
              "      <td>47.54045</td>\n",
              "    </tr>\n",
              "    <tr>\n",
              "      <th>1</th>\n",
              "      <td>9.55980</td>\n",
              "      <td>47.50209</td>\n",
              "    </tr>\n",
              "    <tr>\n",
              "      <th>2</th>\n",
              "      <td>9.59660</td>\n",
              "      <td>47.46944</td>\n",
              "    </tr>\n",
              "    <tr>\n",
              "      <th>3</th>\n",
              "      <td>9.64965</td>\n",
              "      <td>47.45861</td>\n",
              "    </tr>\n",
              "    <tr>\n",
              "      <th>4</th>\n",
              "      <td>9.67035</td>\n",
              "      <td>47.39069</td>\n",
              "    </tr>\n",
              "    <tr>\n",
              "      <th>...</th>\n",
              "      <td>...</td>\n",
              "      <td>...</td>\n",
              "    </tr>\n",
              "    <tr>\n",
              "      <th>273</th>\n",
              "      <td>9.03333</td>\n",
              "      <td>47.68833</td>\n",
              "    </tr>\n",
              "    <tr>\n",
              "      <th>274</th>\n",
              "      <td>9.08264</td>\n",
              "      <td>47.68541</td>\n",
              "    </tr>\n",
              "    <tr>\n",
              "      <th>275</th>\n",
              "      <td>9.26110</td>\n",
              "      <td>47.66284</td>\n",
              "    </tr>\n",
              "    <tr>\n",
              "      <th>276</th>\n",
              "      <td>9.47832</td>\n",
              "      <td>47.57585</td>\n",
              "    </tr>\n",
              "    <tr>\n",
              "      <th>277</th>\n",
              "      <td>9.56672</td>\n",
              "      <td>47.54045</td>\n",
              "    </tr>\n",
              "  </tbody>\n",
              "</table>\n",
              "<p>278 rows × 2 columns</p>\n",
              "</div>"
            ],
            "text/plain": [
              "     longitude  latitude\n",
              "0      9.56672  47.54045\n",
              "1      9.55980  47.50209\n",
              "2      9.59660  47.46944\n",
              "3      9.64965  47.45861\n",
              "4      9.67035  47.39069\n",
              "..         ...       ...\n",
              "273    9.03333  47.68833\n",
              "274    9.08264  47.68541\n",
              "275    9.26110  47.66284\n",
              "276    9.47832  47.57585\n",
              "277    9.56672  47.54045\n",
              "\n",
              "[278 rows x 2 columns]"
            ]
          },
          "metadata": {
            "tags": []
          },
          "execution_count": 124
        }
      ]
    },
    {
      "cell_type": "code",
      "metadata": {
        "colab": {
          "base_uri": "https://localhost:8080/",
          "height": 203
        },
        "id": "Mb2thF1b7Gsb",
        "outputId": "1ae403b3-f9f8-465f-df00-38e54aac2a4c"
      },
      "source": [
        "df.head()"
      ],
      "execution_count": 125,
      "outputs": [
        {
          "output_type": "execute_result",
          "data": {
            "text/html": [
              "<div>\n",
              "<style scoped>\n",
              "    .dataframe tbody tr th:only-of-type {\n",
              "        vertical-align: middle;\n",
              "    }\n",
              "\n",
              "    .dataframe tbody tr th {\n",
              "        vertical-align: top;\n",
              "    }\n",
              "\n",
              "    .dataframe thead th {\n",
              "        text-align: right;\n",
              "    }\n",
              "</style>\n",
              "<table border=\"1\" class=\"dataframe\">\n",
              "  <thead>\n",
              "    <tr style=\"text-align: right;\">\n",
              "      <th></th>\n",
              "      <th>longitude</th>\n",
              "      <th>latitude</th>\n",
              "    </tr>\n",
              "  </thead>\n",
              "  <tbody>\n",
              "    <tr>\n",
              "      <th>0</th>\n",
              "      <td>9.56672</td>\n",
              "      <td>47.54045</td>\n",
              "    </tr>\n",
              "    <tr>\n",
              "      <th>1</th>\n",
              "      <td>9.55980</td>\n",
              "      <td>47.50209</td>\n",
              "    </tr>\n",
              "    <tr>\n",
              "      <th>2</th>\n",
              "      <td>9.59660</td>\n",
              "      <td>47.46944</td>\n",
              "    </tr>\n",
              "    <tr>\n",
              "      <th>3</th>\n",
              "      <td>9.64965</td>\n",
              "      <td>47.45861</td>\n",
              "    </tr>\n",
              "    <tr>\n",
              "      <th>4</th>\n",
              "      <td>9.67035</td>\n",
              "      <td>47.39069</td>\n",
              "    </tr>\n",
              "  </tbody>\n",
              "</table>\n",
              "</div>"
            ],
            "text/plain": [
              "   longitude  latitude\n",
              "0    9.56672  47.54045\n",
              "1    9.55980  47.50209\n",
              "2    9.59660  47.46944\n",
              "3    9.64965  47.45861\n",
              "4    9.67035  47.39069"
            ]
          },
          "metadata": {
            "tags": []
          },
          "execution_count": 125
        }
      ]
    },
    {
      "cell_type": "code",
      "metadata": {
        "colab": {
          "base_uri": "https://localhost:8080/"
        },
        "id": "h2RHlO1b7qeI",
        "outputId": "34220b71-e648-4196-b664-ad1f0512e5c9"
      },
      "source": [
        "len(df)"
      ],
      "execution_count": 126,
      "outputs": [
        {
          "output_type": "execute_result",
          "data": {
            "text/plain": [
              "278"
            ]
          },
          "metadata": {
            "tags": []
          },
          "execution_count": 126
        }
      ]
    },
    {
      "cell_type": "code",
      "metadata": {
        "colab": {
          "base_uri": "https://localhost:8080/"
        },
        "id": "kxpDxfV37tXm",
        "outputId": "80036a06-7c4f-4c40-de0d-bf5eb42be5a8"
      },
      "source": [
        "df.shape"
      ],
      "execution_count": 127,
      "outputs": [
        {
          "output_type": "execute_result",
          "data": {
            "text/plain": [
              "(278, 2)"
            ]
          },
          "metadata": {
            "tags": []
          },
          "execution_count": 127
        }
      ]
    },
    {
      "cell_type": "code",
      "metadata": {
        "colab": {
          "base_uri": "https://localhost:8080/"
        },
        "id": "NStHc6cP7ydz",
        "outputId": "fc90ced1-6811-4fbb-b0fc-603fa8ba54f9"
      },
      "source": [
        "df.info()"
      ],
      "execution_count": 128,
      "outputs": [
        {
          "output_type": "stream",
          "text": [
            "<class 'pandas.core.frame.DataFrame'>\n",
            "RangeIndex: 278 entries, 0 to 277\n",
            "Data columns (total 2 columns):\n",
            " #   Column     Non-Null Count  Dtype  \n",
            "---  ------     --------------  -----  \n",
            " 0   longitude  278 non-null    float64\n",
            " 1   latitude   278 non-null    float64\n",
            "dtypes: float64(2)\n",
            "memory usage: 4.5 KB\n"
          ],
          "name": "stdout"
        }
      ]
    },
    {
      "cell_type": "code",
      "metadata": {
        "colab": {
          "base_uri": "https://localhost:8080/",
          "height": 295
        },
        "id": "SPaevbm_78y0",
        "outputId": "6f48c87f-b1fc-4758-ea77-fffce4892ccf"
      },
      "source": [
        "df.describe()"
      ],
      "execution_count": 129,
      "outputs": [
        {
          "output_type": "execute_result",
          "data": {
            "text/html": [
              "<div>\n",
              "<style scoped>\n",
              "    .dataframe tbody tr th:only-of-type {\n",
              "        vertical-align: middle;\n",
              "    }\n",
              "\n",
              "    .dataframe tbody tr th {\n",
              "        vertical-align: top;\n",
              "    }\n",
              "\n",
              "    .dataframe thead th {\n",
              "        text-align: right;\n",
              "    }\n",
              "</style>\n",
              "<table border=\"1\" class=\"dataframe\">\n",
              "  <thead>\n",
              "    <tr style=\"text-align: right;\">\n",
              "      <th></th>\n",
              "      <th>longitude</th>\n",
              "      <th>latitude</th>\n",
              "    </tr>\n",
              "  </thead>\n",
              "  <tbody>\n",
              "    <tr>\n",
              "      <th>count</th>\n",
              "      <td>278.000000</td>\n",
              "      <td>278.000000</td>\n",
              "    </tr>\n",
              "    <tr>\n",
              "      <th>mean</th>\n",
              "      <td>8.388293</td>\n",
              "      <td>46.789161</td>\n",
              "    </tr>\n",
              "    <tr>\n",
              "      <th>std</th>\n",
              "      <td>1.308479</td>\n",
              "      <td>0.627381</td>\n",
              "    </tr>\n",
              "    <tr>\n",
              "      <th>min</th>\n",
              "      <td>5.967010</td>\n",
              "      <td>45.829440</td>\n",
              "    </tr>\n",
              "    <tr>\n",
              "      <th>25%</th>\n",
              "      <td>7.339238</td>\n",
              "      <td>46.251680</td>\n",
              "    </tr>\n",
              "    <tr>\n",
              "      <th>50%</th>\n",
              "      <td>8.572925</td>\n",
              "      <td>46.616660</td>\n",
              "    </tr>\n",
              "    <tr>\n",
              "      <th>75%</th>\n",
              "      <td>9.500760</td>\n",
              "      <td>47.460065</td>\n",
              "    </tr>\n",
              "    <tr>\n",
              "      <th>max</th>\n",
              "      <td>10.488210</td>\n",
              "      <td>47.806660</td>\n",
              "    </tr>\n",
              "  </tbody>\n",
              "</table>\n",
              "</div>"
            ],
            "text/plain": [
              "        longitude    latitude\n",
              "count  278.000000  278.000000\n",
              "mean     8.388293   46.789161\n",
              "std      1.308479    0.627381\n",
              "min      5.967010   45.829440\n",
              "25%      7.339238   46.251680\n",
              "50%      8.572925   46.616660\n",
              "75%      9.500760   47.460065\n",
              "max     10.488210   47.806660"
            ]
          },
          "metadata": {
            "tags": []
          },
          "execution_count": 129
        }
      ]
    },
    {
      "cell_type": "code",
      "metadata": {
        "colab": {
          "base_uri": "https://localhost:8080/"
        },
        "id": "YeqpkVMM8AYY",
        "outputId": "dbf7c851-fbc7-4c15-b5e4-a22e28337d09"
      },
      "source": [
        "center = (df.min() + df.max())/2\n",
        "center"
      ],
      "execution_count": 150,
      "outputs": [
        {
          "output_type": "execute_result",
          "data": {
            "text/plain": [
              "longitude     8.22761\n",
              "latitude     46.81805\n",
              "dtype: float64"
            ]
          },
          "metadata": {
            "tags": []
          },
          "execution_count": 150
        }
      ]
    },
    {
      "cell_type": "code",
      "metadata": {
        "colab": {
          "base_uri": "https://localhost:8080/"
        },
        "id": "7GgtmcQJ9Gpo",
        "outputId": "fa2a036d-ae43-401d-b1af-47d1c14ac57c"
      },
      "source": [
        "nortlong = []\n",
        "for i in df.longitude:\n",
        "  if i >= 8.22761:\n",
        "    nortlong.append(i)\n",
        "nortlong"
      ],
      "execution_count": 151,
      "outputs": [
        {
          "output_type": "execute_result",
          "data": {
            "text/plain": [
              "[9.566720000000089,\n",
              " 9.559800000000052,\n",
              " 9.59660000000008,\n",
              " 9.649650000000065,\n",
              " 9.670350000000044,\n",
              " 9.637360000000058,\n",
              " 9.610970000000068,\n",
              " 9.540000000000076,\n",
              " 9.533570000000054,\n",
              " 9.496800000000064,\n",
              " 9.48500000000007,\n",
              " 9.487080000000047,\n",
              " 9.502080000000092,\n",
              " 9.511730000000057,\n",
              " 9.474640000000079,\n",
              " 9.485280000000046,\n",
              " 9.506390000000067,\n",
              " 9.541390000000092,\n",
              " 9.598630000000073,\n",
              " 9.632500000000052,\n",
              " 9.719440000000077,\n",
              " 9.87292000000008,\n",
              " 9.89160000000004,\n",
              " 9.875830000000065,\n",
              " 9.877780000000088,\n",
              " 9.935000000000061,\n",
              " 10.058890000000076,\n",
              " 10.109440000000065,\n",
              " 10.131530000000057,\n",
              " 10.14181000000008,\n",
              " 10.16083000000009,\n",
              " 10.227500000000076,\n",
              " 10.313330000000065,\n",
              " 10.323330000000057,\n",
              " 10.350620000000047,\n",
              " 10.390760000000057,\n",
              " 10.430000000000064,\n",
              " 10.488210000000038,\n",
              " 10.47124000000008,\n",
              " 10.447500000000046,\n",
              " 10.470830000000092,\n",
              " 10.486530000000073,\n",
              " 10.485690000000089,\n",
              " 10.471870000000079,\n",
              " 10.457530000000077,\n",
              " 10.44972000000007,\n",
              " 10.33722000000006,\n",
              " 10.303610000000047,\n",
              " 10.246320000000082,\n",
              " 10.253610000000037,\n",
              " 10.241810000000044,\n",
              " 10.181110000000047,\n",
              " 10.119170000000056,\n",
              " 10.051390000000083,\n",
              " 10.044440000000067,\n",
              " 10.049690000000057,\n",
              " 10.090690000000052,\n",
              " 10.153890000000047,\n",
              " 10.17396000000008,\n",
              " 10.136390000000064,\n",
              " 10.071770000000072,\n",
              " 9.995000000000061,\n",
              " 9.982220000000039,\n",
              " 9.990420000000086,\n",
              " 9.946940000000039,\n",
              " 9.908050000000062,\n",
              " 9.852780000000052,\n",
              " 9.813060000000064,\n",
              " 9.770560000000046,\n",
              " 9.708820000000062,\n",
              " 9.624720000000082,\n",
              " 9.581940000000088,\n",
              " 9.544860000000083,\n",
              " 9.521390000000055,\n",
              " 9.457640000000083,\n",
              " 9.45028000000008,\n",
              " 9.45500000000004,\n",
              " 9.366800000000067,\n",
              " 9.293780000000083,\n",
              " 9.250620000000083,\n",
              " 9.273120000000064,\n",
              " 9.297220000000037,\n",
              " 9.292640000000064,\n",
              " 9.27667000000008,\n",
              " 9.241010000000074,\n",
              " 9.176460000000077,\n",
              " 9.144440000000088,\n",
              " 9.132220000000077,\n",
              " 9.083330000000046,\n",
              " 9.03583000000009,\n",
              " 9.01667000000009,\n",
              " 8.997360000000073,\n",
              " 9.022990000000052,\n",
              " 9.07305000000008,\n",
              " 9.084100000000092,\n",
              " 9.036660000000039,\n",
              " 8.998330000000069,\n",
              " 8.951110000000085,\n",
              " 8.93632000000008,\n",
              " 8.926670000000057,\n",
              " 8.897780000000068,\n",
              " 8.819860000000062,\n",
              " 8.820280000000082,\n",
              " 8.851460000000088,\n",
              " 8.844170000000076,\n",
              " 8.822220000000073,\n",
              " 8.747220000000084,\n",
              " 8.72885000000008,\n",
              " 8.71930000000009,\n",
              " 8.696530000000052,\n",
              " 8.615830000000074,\n",
              " 8.460550000000067,\n",
              " 8.44500000000005,\n",
              " 8.434580000000041,\n",
              " 8.448120000000074,\n",
              " 8.465970000000084,\n",
              " 8.460830000000044,\n",
              " 8.441450000000088,\n",
              " 8.365280000000041,\n",
              " 8.35722000000004,\n",
              " 8.303750000000093,\n",
              " 8.240830000000074,\n",
              " 8.289100000000076,\n",
              " 8.39083000000005,\n",
              " 8.435830000000069,\n",
              " 8.471250000000055,\n",
              " 8.523470000000088,\n",
              " 8.562910000000045,\n",
              " 8.569430000000068,\n",
              " 8.57642000000004,\n",
              " 8.593050000000062,\n",
              " 8.624960000000044,\n",
              " 8.610250000000066,\n",
              " 8.580550000000073,\n",
              " 8.540550000000053,\n",
              " 8.522080000000074,\n",
              " 8.48542000000009,\n",
              " 8.419030000000078,\n",
              " 8.406940000000077,\n",
              " 8.477080000000058,\n",
              " 8.562920000000076,\n",
              " 8.611670000000059,\n",
              " 8.66139000000004,\n",
              " 8.685550000000093,\n",
              " 8.73646000000008,\n",
              " 8.732260000000052,\n",
              " 8.72022000000004,\n",
              " 8.753330000000062,\n",
              " 8.800130000000083,\n",
              " 8.77437000000009,\n",
              " 8.805480000000045,\n",
              " 8.835280000000068,\n",
              " 8.855830000000083,\n",
              " 8.883300000000078,\n",
              " 8.898890000000051,\n",
              " 8.925970000000062,\n",
              " 8.94778000000008,\n",
              " 8.979440000000068,\n",
              " 9.000830000000065,\n",
              " 9.033330000000092,\n",
              " 9.082640000000083,\n",
              " 9.261100000000058,\n",
              " 9.478320000000052,\n",
              " 9.566720000000089]"
            ]
          },
          "metadata": {
            "tags": []
          },
          "execution_count": 151
        }
      ]
    },
    {
      "cell_type": "code",
      "metadata": {
        "colab": {
          "base_uri": "https://localhost:8080/"
        },
        "id": "uEbYJtNq-3Gj",
        "outputId": "ddfc2273-f74b-4711-ce88-3e0fd7822725"
      },
      "source": [
        "southlong = []\n",
        "for i in df.longitude:\n",
        "  if i <= 8.22761:\n",
        "    southlong.append(i)\n",
        "southlong"
      ],
      "execution_count": 152,
      "outputs": [
        {
          "output_type": "execute_result",
          "data": {
            "text/plain": [
              "[8.141940000000089,\n",
              " 8.158750000000055,\n",
              " 8.149580000000071,\n",
              " 8.009030000000052,\n",
              " 7.9730500000000575,\n",
              " 7.950000000000045,\n",
              " 7.906810000000063,\n",
              " 7.8793000000000575,\n",
              " 7.866390000000081,\n",
              " 7.855740000000082,\n",
              " 7.783890000000043,\n",
              " 7.743330000000071,\n",
              " 7.709170000000086,\n",
              " 7.650280000000067,\n",
              " 7.536670000000073,\n",
              " 7.458060000000047,\n",
              " 7.429720000000088,\n",
              " 7.386110000000088,\n",
              " 7.338890000000049,\n",
              " 7.29681000000005,\n",
              " 7.23028000000005,\n",
              " 7.191390000000069,\n",
              " 7.10326000000009,\n",
              " 7.070280000000082,\n",
              " 7.038050000000055,\n",
              " 7.030550000000062,\n",
              " 7.007220000000075,\n",
              " 6.933050000000037,\n",
              " 6.873890000000074,\n",
              " 6.7834700000000785,\n",
              " 6.800000000000068,\n",
              " 6.80702000000008,\n",
              " 6.798330000000077,\n",
              " 6.7377800000000425,\n",
              " 6.702780000000075,\n",
              " 6.63361000000009,\n",
              " 6.5151400000000885,\n",
              " 6.491940000000057,\n",
              " 6.319720000000075,\n",
              " 6.29556000000008,\n",
              " 6.244860000000074,\n",
              " 6.230000000000075,\n",
              " 6.243750000000091,\n",
              " 6.271950000000062,\n",
              " 6.245550000000037,\n",
              " 6.187500000000057,\n",
              " 6.133260000000063,\n",
              " 5.996390000000076,\n",
              " 5.967010000000073,\n",
              " 5.981390000000089,\n",
              " 6.00917000000004,\n",
              " 6.0300000000000855,\n",
              " 6.074580000000083,\n",
              " 6.115560000000073,\n",
              " 6.106110000000057,\n",
              " 6.117640000000051,\n",
              " 6.153540000000078,\n",
              " 6.1111100000000524,\n",
              " 6.07111000000009,\n",
              " 6.086940000000084,\n",
              " 6.13528000000008,\n",
              " 6.128680000000088,\n",
              " 6.269170000000088,\n",
              " 6.358750000000043,\n",
              " 6.435000000000058,\n",
              " 6.456870000000037,\n",
              " 6.4469400000000405,\n",
              " 6.4602800000000675,\n",
              " 6.52833000000004,\n",
              " 6.566390000000069,\n",
              " 6.63250000000005,\n",
              " 6.678330000000074,\n",
              " 6.699440000000037,\n",
              " 6.793330000000083,\n",
              " 6.849720000000048,\n",
              " 6.838960000000043,\n",
              " 6.971670000000074,\n",
              " 7.000830000000064,\n",
              " 6.980830000000083,\n",
              " 6.931390000000079,\n",
              " 6.881670000000043,\n",
              " 6.990560000000073,\n",
              " 7.025000000000091,\n",
              " 7.146420000000091,\n",
              " 7.182920000000081,\n",
              " 7.2477100000000405,\n",
              " 7.275550000000068,\n",
              " 7.308330000000068,\n",
              " 7.340280000000063,\n",
              " 7.3559000000000765,\n",
              " 7.35806000000008,\n",
              " 7.385420000000068,\n",
              " 7.415550000000052,\n",
              " 7.433050000000037,\n",
              " 7.452780000000075,\n",
              " 7.496940000000053,\n",
              " 7.5022200000000785,\n",
              " 7.5025700000000475,\n",
              " 7.521670000000086,\n",
              " 7.546670000000062,\n",
              " 7.5540300000000675,\n",
              " 7.5770800000000795,\n",
              " 7.58827000000008,\n",
              " 7.64056000000005,\n",
              " 7.675690000000088,\n",
              " 7.668820000000039,\n",
              " 7.621110000000044,\n",
              " 7.656110000000068,\n",
              " 7.697220000000073,\n",
              " 7.769720000000063,\n",
              " 7.917710000000057,\n",
              " 8.033330000000094,\n",
              " 8.101840000000037,\n",
              " 8.195760000000064]"
            ]
          },
          "metadata": {
            "tags": []
          },
          "execution_count": 152
        }
      ]
    },
    {
      "cell_type": "code",
      "metadata": {
        "colab": {
          "base_uri": "https://localhost:8080/"
        },
        "id": "ApH-JhmmALE4",
        "outputId": "ccb14ea4-d7ee-4980-e097-c110a63ca824"
      },
      "source": [
        "nortlat = []\n",
        "for i in df.latitude:\n",
        "  if i >= 46.81805:\n",
        "    nortlat.append(i)\n",
        "nortlat"
      ],
      "execution_count": 154,
      "outputs": [
        {
          "output_type": "execute_result",
          "data": {
            "text/plain": [
              "[47.54045000000008,\n",
              " 47.50209000000007,\n",
              " 47.46944000000008,\n",
              " 47.45861000000008,\n",
              " 47.39069000000006,\n",
              " 47.369580000000035,\n",
              " 47.362220000000036,\n",
              " 47.284160000000035,\n",
              " 47.274540000000066,\n",
              " 47.223330000000026,\n",
              " 47.196240000000046,\n",
              " 47.172630000000076,\n",
              " 47.146810000000066,\n",
              " 47.10597000000007,\n",
              " 47.05746000000005,\n",
              " 47.06110000000007,\n",
              " 47.06472000000008,\n",
              " 47.07000000000005,\n",
              " 47.06384000000008,\n",
              " 47.05667000000005,\n",
              " 47.050280000000036,\n",
              " 47.02305000000007,\n",
              " 47.00034000000005,\n",
              " 46.968180000000075,\n",
              " 46.940410000000035,\n",
              " 46.91277000000007,\n",
              " 46.86638000000005,\n",
              " 46.85027000000007,\n",
              " 46.85041000000007,\n",
              " 46.85134000000005,\n",
              " 46.854990000000036,\n",
              " 46.87694000000005,\n",
              " 46.933610000000044,\n",
              " 46.955550000000066,\n",
              " 46.99124000000007,\n",
              " 47.00257000000005,\n",
              " 46.984160000000095,\n",
              " 46.93599000000007,\n",
              " 46.871350000000064,\n",
              " 46.839440000000074,\n",
              " 46.895830000000046,\n",
              " 46.971670000000074,\n",
              " 46.980000000000075,\n",
              " 47.000000000000064,\n",
              " 47.034160000000035,\n",
              " 47.063890000000065,\n",
              " 47.13083000000007,\n",
              " 47.164990000000046,\n",
              " 47.17152000000005,\n",
              " 47.29194000000007,\n",
              " 47.365000000000066,\n",
              " 47.36166000000009,\n",
              " 47.358890000000095,\n",
              " 47.363680000000045,\n",
              " 47.49722000000008,\n",
              " 47.508050000000075,\n",
              " 47.49905000000007,\n",
              " 47.44402000000007,\n",
              " 47.421660000000095,\n",
              " 47.432490000000094,\n",
              " 47.440280000000094,\n",
              " 47.4390200000001,\n",
              " 47.434020000000025,\n",
              " 47.433610000000044,\n",
              " 47.43333000000007,\n",
              " 47.445280000000075,\n",
              " 47.46055000000007,\n",
              " 47.469990000000045,\n",
              " 47.494990000000094,\n",
              " 47.500550000000025,\n",
              " 47.549930000000074,\n",
              " 47.559710000000045,\n",
              " 47.565550000000094,\n",
              " 47.578880000000076,\n",
              " 47.58430000000004,\n",
              " 47.584480000000035,\n",
              " 47.60388000000007,\n",
              " 47.604990000000036,\n",
              " 47.57604000000004,\n",
              " 47.56110000000007,\n",
              " 47.55055000000005,\n",
              " 47.543330000000076,\n",
              " 47.553330000000074,\n",
              " 47.554230000000075,\n",
              " 47.55611000000005,\n",
              " 47.57107000000008,\n",
              " 47.62034000000007,\n",
              " 47.61944000000005,\n",
              " 47.60909000000004,\n",
              " 47.58000000000004,\n",
              " 47.573610000000095,\n",
              " 47.60735000000005,\n",
              " 47.632700000000064,\n",
              " 47.618400000000065,\n",
              " 47.598540000000064,\n",
              " 47.59137000000004,\n",
              " 47.60055000000007,\n",
              " 47.656210000000044,\n",
              " 47.66773000000007,\n",
              " 47.668610000000065,\n",
              " 47.664300000000075,\n",
              " 47.65166000000005,\n",
              " 47.647080000000074,\n",
              " 47.67388000000005,\n",
              " 47.70180000000005,\n",
              " 47.770620000000065,\n",
              " 47.80666000000008,\n",
              " 47.80388000000005,\n",
              " 47.798050000000046,\n",
              " 47.78666000000004,\n",
              " 47.757080000000094,\n",
              " 47.70829000000003,\n",
              " 47.696620000000046,\n",
              " 47.693610000000035,\n",
              " 47.68172000000004,\n",
              " 47.71597000000008,\n",
              " 47.73604000000007,\n",
              " 47.71805000000007,\n",
              " 47.698880000000095,\n",
              " 47.654150000000065,\n",
              " 47.650830000000035,\n",
              " 47.65180000000004,\n",
              " 47.657490000000045,\n",
              " 47.67014000000007,\n",
              " 47.680830000000064,\n",
              " 47.688330000000065,\n",
              " 47.68541000000005,\n",
              " 47.662840000000074,\n",
              " 47.57585000000007,\n",
              " 47.54045000000008]"
            ]
          },
          "metadata": {
            "tags": []
          },
          "execution_count": 154
        }
      ]
    },
    {
      "cell_type": "code",
      "metadata": {
        "colab": {
          "base_uri": "https://localhost:8080/"
        },
        "id": "fcrTi1wPBPcQ",
        "outputId": "8a48ca2e-d415-4b87-f8cc-a56c5b07c790"
      },
      "source": [
        "soutlat = []\n",
        "for i in df.latitude:\n",
        "  if i <= 46.81805:\n",
        "    soutlat.append(i)\n",
        "soutlat"
      ],
      "execution_count": 155,
      "outputs": [
        {
          "output_type": "execute_result",
          "data": {
            "text/plain": [
              "[46.76305000000008,\n",
              " 46.63583000000007,\n",
              " 46.617350000000044,\n",
              " 46.592640000000074,\n",
              " 46.55576000000008,\n",
              " 46.54251000000005,\n",
              " 46.53916000000004,\n",
              " 46.54944000000007,\n",
              " 46.554860000000076,\n",
              " 46.59041000000008,\n",
              " 46.61597000000007,\n",
              " 46.63444000000004,\n",
              " 46.632220000000075,\n",
              " 46.61138000000005,\n",
              " 46.54152000000005,\n",
              " 46.502640000000035,\n",
              " 46.44559000000004,\n",
              " 46.42375000000004,\n",
              " 46.39027000000005,\n",
              " 46.263120000000065,\n",
              " 46.23069000000004,\n",
              " 46.221800000000094,\n",
              " 46.29167000000007,\n",
              " 46.333050000000064,\n",
              " 46.355200000000075,\n",
              " 46.379580000000026,\n",
              " 46.38319000000007,\n",
              " 46.36972000000009,\n",
              " 46.35833000000007,\n",
              " 46.34221000000008,\n",
              " 46.30027000000007,\n",
              " 46.29194000000007,\n",
              " 46.29694000000006,\n",
              " 46.30624000000007,\n",
              " 46.319720000000075,\n",
              " 46.386240000000036,\n",
              " 46.426670000000065,\n",
              " 46.472500000000075,\n",
              " 46.508050000000075,\n",
              " 46.500830000000065,\n",
              " 46.44242000000008,\n",
              " 46.425760000000075,\n",
              " 46.350970000000075,\n",
              " 46.324860000000065,\n",
              " 46.292500000000075,\n",
              " 46.23363000000007,\n",
              " 46.17861000000005,\n",
              " 46.16805000000005,\n",
              " 46.160270000000075,\n",
              " 46.121110000000044,\n",
              " 46.05722000000009,\n",
              " 46.022500000000036,\n",
              " 45.97514000000007,\n",
              " 45.93895000000003,\n",
              " 45.920000000000066,\n",
              " 45.90229000000005,\n",
              " 45.837780000000066,\n",
              " 45.82944000000003,\n",
              " 45.8452700000001,\n",
              " 45.871870000000065,\n",
              " 45.900830000000035,\n",
              " 45.95277000000005,\n",
              " 45.98639000000009,\n",
              " 46.033890000000035,\n",
              " 46.056730000000066,\n",
              " 46.08076000000007,\n",
              " 46.098610000000065,\n",
              " 46.121110000000044,\n",
              " 46.10859000000005,\n",
              " 46.10402000000005,\n",
              " 46.10111000000007,\n",
              " 46.121250000000096,\n",
              " 46.23333000000007,\n",
              " 46.24722000000008,\n",
              " 46.29319000000004,\n",
              " 46.32298000000009,\n",
              " 46.372630000000065,\n",
              " 46.44833000000007,\n",
              " 46.462080000000064,\n",
              " 46.453600000000044,\n",
              " 46.450000000000045,\n",
              " 46.422910000000066,\n",
              " 46.22291000000007,\n",
              " 46.183820000000075,\n",
              " 46.151240000000094,\n",
              " 46.009300000000046,\n",
              " 45.996940000000045,\n",
              " 45.99416000000008,\n",
              " 45.99263000000008,\n",
              " 45.97514000000007,\n",
              " 45.94832000000007,\n",
              " 45.91905000000008,\n",
              " 45.923610000000046,\n",
              " 45.93222000000009,\n",
              " 45.94333000000007,\n",
              " 45.98055000000005,\n",
              " 45.981670000000065,\n",
              " 45.94111000000004,\n",
              " 45.92944000000006,\n",
              " 45.915410000000065,\n",
              " 45.92055000000005,\n",
              " 45.92319000000003,\n",
              " 45.89805000000007,\n",
              " 45.880690000000065,\n",
              " 45.88354000000004,\n",
              " 45.90306000000004,\n",
              " 45.93194000000005,\n",
              " 45.96194000000008,\n",
              " 45.998060000000066,\n",
              " 46.055270000000064,\n",
              " 46.08805000000007,\n",
              " 46.15472000000005,\n",
              " 46.378320000000095,\n",
              " 46.40423000000004,\n",
              " 46.42861000000005,\n",
              " 46.447490000000066,\n",
              " 46.454720000000066,\n",
              " 46.464170000000074,\n",
              " 46.458460000000066,\n",
              " 46.453050000000076,\n",
              " 46.40416000000005,\n",
              " 46.39416000000006,\n",
              " 46.356390000000026,\n",
              " 46.33020000000005,\n",
              " 46.315510000000074,\n",
              " 46.26194000000004,\n",
              " 46.21833000000004,\n",
              " 46.17208000000005,\n",
              " 46.14978000000008,\n",
              " 46.14694000000009,\n",
              " 46.207290000000064,\n",
              " 46.221940000000075,\n",
              " 46.233890000000095,\n",
              " 46.241390000000074,\n",
              " 46.24840000000007,\n",
              " 46.261520000000075,\n",
              " 46.29749000000004,\n",
              " 46.308750000000096,\n",
              " 46.379270000000076,\n",
              " 46.40972000000005,\n",
              " 46.426380000000044,\n",
              " 46.44944000000004,\n",
              " 46.539720000000045,\n",
              " 46.58805000000007,\n",
              " 46.68278000000004,\n",
              " 46.71673000000004,\n",
              " 46.758050000000075,\n",
              " 46.78145000000006]"
            ]
          },
          "metadata": {
            "tags": []
          },
          "execution_count": 155
        }
      ]
    },
    {
      "cell_type": "code",
      "metadata": {
        "colab": {
          "base_uri": "https://localhost:8080/"
        },
        "id": "f2j3QW-XBjPU",
        "outputId": "ec6a94df-c318-4c80-c1e2-0543598db3fc"
      },
      "source": [
        "luas = df.longitude * df.latitude\n",
        "luas"
      ],
      "execution_count": 168,
      "outputs": [
        {
          "output_type": "execute_result",
          "data": {
            "text/plain": [
              "0      454.806174\n",
              "1      454.110480\n",
              "2      455.545228\n",
              "3      457.958976\n",
              "4      458.284559\n",
              "          ...    \n",
              "273    430.784422\n",
              "274    433.109412\n",
              "275    441.410328\n",
              "276    450.939131\n",
              "277    454.806174\n",
              "Length: 278, dtype: float64"
            ]
          },
          "metadata": {
            "tags": []
          },
          "execution_count": 168
        }
      ]
    },
    {
      "cell_type": "markdown",
      "metadata": {
        "id": "od7JuIJdgyz1"
      },
      "source": [
        "5. Mathematical Calculation"
      ]
    },
    {
      "cell_type": "markdown",
      "metadata": {
        "id": "oCKJ-Ms_CHZ4"
      },
      "source": [
        "Soal 1 :"
      ]
    },
    {
      "cell_type": "code",
      "metadata": {
        "colab": {
          "base_uri": "https://localhost:8080/"
        },
        "id": "bqoaWfxa3Hco",
        "outputId": "3f553dde-2e6b-41dd-e80a-1d349d5f20d7"
      },
      "source": [
        "eigVal"
      ],
      "execution_count": 92,
      "outputs": [
        {
          "output_type": "execute_result",
          "data": {
            "text/plain": [
              "array([86.66282951 +0.j        ,  7.66858524+13.34279616j,\n",
              "        7.66858524-13.34279616j])"
            ]
          },
          "metadata": {
            "tags": []
          },
          "execution_count": 92
        }
      ]
    },
    {
      "cell_type": "code",
      "metadata": {
        "colab": {
          "base_uri": "https://localhost:8080/"
        },
        "id": "7aPFC2hQ25XN",
        "outputId": "fc9f5fbd-ddc6-49b5-98a9-d8379363a152"
      },
      "source": [
        "\n",
        "eigVec"
      ],
      "execution_count": null,
      "outputs": [
        {
          "output_type": "execute_result",
          "data": {
            "text/plain": [
              "array([[ 0.43980992+0.j        ,  0.85319479+0.j        ,\n",
              "         0.85319479-0.j        ],\n",
              "       [ 0.4464514 +0.j        , -0.31361611-0.21253055j,\n",
              "        -0.31361611+0.21253055j],\n",
              "       [ 0.77926144+0.j        , -0.08666533+0.34788427j,\n",
              "        -0.08666533-0.34788427j]])"
            ]
          },
          "metadata": {
            "tags": []
          },
          "execution_count": 90
        }
      ]
    },
    {
      "cell_type": "code",
      "metadata": {
        "colab": {
          "base_uri": "https://localhost:8080/"
        },
        "id": "mVGba31B3A1f",
        "outputId": "7e96b9bc-eecb-4b18-cb76-1654796cffa7"
      },
      "source": [
        "np.fliplr(np.diag(eigVal))"
      ],
      "execution_count": 93,
      "outputs": [
        {
          "output_type": "execute_result",
          "data": {
            "text/plain": [
              "array([[ 0.         +0.j        ,  0.         +0.j        ,\n",
              "        86.66282951 +0.j        ],\n",
              "       [ 0.         +0.j        ,  7.66858524+13.34279616j,\n",
              "         0.         +0.j        ],\n",
              "       [ 7.66858524-13.34279616j,  0.         +0.j        ,\n",
              "         0.         +0.j        ]])"
            ]
          },
          "metadata": {
            "tags": []
          },
          "execution_count": 93
        }
      ]
    },
    {
      "cell_type": "markdown",
      "metadata": {
        "id": "vVWlGSaVCK1_"
      },
      "source": [
        "Soal 2 :"
      ]
    },
    {
      "cell_type": "code",
      "metadata": {
        "colab": {
          "base_uri": "https://localhost:8080/"
        },
        "id": "9ErklkDPCN4R",
        "outputId": "a6d6e6d1-3b96-4084-87ce-c0237d664413"
      },
      "source": [
        "luas = df.longitude * df.latitude\n",
        "luas"
      ],
      "execution_count": 169,
      "outputs": [
        {
          "output_type": "execute_result",
          "data": {
            "text/plain": [
              "0      454.806174\n",
              "1      454.110480\n",
              "2      455.545228\n",
              "3      457.958976\n",
              "4      458.284559\n",
              "          ...    \n",
              "273    430.784422\n",
              "274    433.109412\n",
              "275    441.410328\n",
              "276    450.939131\n",
              "277    454.806174\n",
              "Length: 278, dtype: float64"
            ]
          },
          "metadata": {
            "tags": []
          },
          "execution_count": 169
        }
      ]
    },
    {
      "cell_type": "markdown",
      "metadata": {
        "id": "jCcOW1cyg34p"
      },
      "source": [
        "6. Hasil"
      ]
    },
    {
      "cell_type": "markdown",
      "metadata": {
        "id": "QgB6daWT3lDq"
      },
      "source": [
        "1. Jadi hasil masing - masing produk A-J adalah 100.0198\n",
        "\n",
        "2. Jadi luas negara Swiss adalah  454.806174 m2"
      ]
    }
  ]
}