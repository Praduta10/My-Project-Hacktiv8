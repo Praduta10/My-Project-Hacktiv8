{
 "cells": [
  {
   "cell_type": "code",
   "execution_count": 4,
   "id": "4925d91b",
   "metadata": {},
   "outputs": [],
   "source": [
    "import numpy as np\n",
    "import sympy as sy\n",
    "sy.init_printing()"
   ]
  },
  {
   "cell_type": "markdown",
   "id": "bc16bbae",
   "metadata": {},
   "source": [
    "Apakah [1,3] adalah bagian dari [-1,1],[6,-4]"
   ]
  },
  {
   "cell_type": "code",
   "execution_count": 10,
   "id": "12bb558a",
   "metadata": {},
   "outputs": [
    {
     "data": {
      "text/plain": [
       "array([-2, -6])"
      ]
     },
     "metadata": {},
     "output_type": "display_data"
    }
   ],
   "source": [
    "a = np.array([1,3])\n",
    "v = np.array([[1,-1], [6,-4]])\n",
    "display(np.matmul(v,a))"
   ]
  },
  {
   "cell_type": "markdown",
   "id": "2defac03",
   "metadata": {},
   "source": [
    "Disini hasilnya VA = [-2,-6] adalah multiplikassi dari[1,3] yang menunjukkan bahwa A adalah eigen vektor dari V, dan ada beberapa nilai -2 yang artinya EigenValue dari EigenVector A adalah -2."
   ]
  }
 ],
 "metadata": {
  "kernelspec": {
   "display_name": "Python 3",
   "language": "python",
   "name": "python3"
  },
  "language_info": {
   "codemirror_mode": {
    "name": "ipython",
    "version": 3
   },
   "file_extension": ".py",
   "mimetype": "text/x-python",
   "name": "python",
   "nbconvert_exporter": "python",
   "pygments_lexer": "ipython3",
   "version": "3.8.8"
  }
 },
 "nbformat": 4,
 "nbformat_minor": 5
}
