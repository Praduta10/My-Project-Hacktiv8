{
  "nbformat": 4,
  "nbformat_minor": 0,
  "metadata": {
    "colab": {
      "name": "h8dsft_converter.ipynb",
      "provenance": [],
      "collapsed_sections": [],
      "authorship_tag": "ABX9TyNF8DndovNhUPq0U1pTtRoQ",
      "include_colab_link": true
    },
    "kernelspec": {
      "name": "python3",
      "display_name": "Python 3"
    },
    "language_info": {
      "name": "python"
    }
  },
  "cells": [
    {
      "cell_type": "markdown",
      "metadata": {
        "id": "view-in-github",
        "colab_type": "text"
      },
      "source": [
        "<a href=\"https://colab.research.google.com/github/Praduta10/H8_DS-001_PradutaFirman/blob/main/h8dsft_converter.ipynb\" target=\"_parent\"><img src=\"https://colab.research.google.com/assets/colab-badge.svg\" alt=\"Open In Colab\"/></a>"
      ]
    },
    {
      "cell_type": "code",
      "metadata": {
        "colab": {
          "base_uri": "https://localhost:8080/"
        },
        "id": "_ypwXrBhTqxX",
        "outputId": "9f9ce454-a801-4dd8-fd7d-e64279dafe51"
      },
      "source": [
        "def convert_k_to_c(k):\n",
        "  c = float(k-273)\n",
        "  print(c)\n",
        "  return\n",
        "\n",
        "def convert_c_to_k(c):\n",
        "  k = float(c+273)\n",
        "  print(k)\n",
        "  return\n",
        "\n",
        "def convert_c_to_f(c):\n",
        "  f = (float(c)*9/5 + 32)\n",
        "  print(f)\n",
        "  return\n",
        "\n",
        "def convert_k_to_f(k):\n",
        "  f = (float(k-273)*9/5)+ 32\n",
        "  print(f)\n",
        "  return\n",
        "\n",
        "def convert_f_to_c(f):\n",
        "  c = float(f-32) *5/9\n",
        "  print(c)\n",
        "  return\n",
        "\n",
        "def convert_f_to_k(f):\n",
        "  k = (float(f-32) *5/9) + 273\n",
        "  print(k)\n",
        "  return\n",
        "\n",
        "convert_k_to_c(30);\n",
        "convert_c_to_k(100);\n",
        "convert_c_to_f(20);\n",
        "convert_k_to_f(20);\n",
        "convert_f_to_c(10);\n",
        "convert_f_to_k(25);"
      ],
      "execution_count": 29,
      "outputs": [
        {
          "output_type": "stream",
          "text": [
            "-243.0\n",
            "373.0\n",
            "68.0\n",
            "-423.4\n",
            "-12.222222222222221\n",
            "269.1111111111111\n"
          ],
          "name": "stdout"
        }
      ]
    },
    {
      "cell_type": "code",
      "metadata": {
        "id": "Fl2SyK8-jWd8"
      },
      "source": [
        ""
      ],
      "execution_count": null,
      "outputs": []
    },
    {
      "cell_type": "code",
      "metadata": {
        "colab": {
          "base_uri": "https://localhost:8080/"
        },
        "id": "nU46GrbFY9qm",
        "outputId": "d7751b82-aa92-476b-ef04-42f8627d38bb"
      },
      "source": [
        "# konversi kelvin ke celcius\n",
        "\n",
        "def conv_celcius():\n",
        "  print(\"Konversi Suhu Kelvin ke Celcius\") # Penjelasan dalam konversi\n",
        "  kelvin = float(input(\"Masukan Kelvin: \")) # Memasukkan angka dalam kelvin yang mau dikonversi ke celcius\n",
        "  conv_kelvin = kelvin - 273 # Rumus dari kelvin ke celcius\n",
        "  print(f'hasil dari Konversi Suhu {kelvin} k adalah {conv_kelvin} C')\n",
        "conv_celcius() # Untuk memanggil Fungsi"
      ],
      "execution_count": 19,
      "outputs": [
        {
          "output_type": "stream",
          "text": [
            "Konversi Suhu Kelvin ke Celcius\n",
            "Masukan Kelvin: 30\n",
            "hasil dari Konversi Suhu 30.0 k adalah -243.0 C\n"
          ],
          "name": "stdout"
        }
      ]
    },
    {
      "cell_type": "code",
      "metadata": {
        "colab": {
          "base_uri": "https://localhost:8080/"
        },
        "id": "KfsUqZuSdbnn",
        "outputId": "49c5ac1d-bc53-413a-c42f-7c21827b099c"
      },
      "source": [
        "# konversi celcius ke kelvin\n",
        "\n",
        "def conv_kelvin():\n",
        "  print(\"Konversi Suhu Celcius ke Kelvin\") # Penjelasan dalam konversi\n",
        "  c = int(input(\"Masukan Celcius: \")) # Memasukkan angka dalam celcius yang dikonversi ke kelvin\n",
        "  conv_c = c + 273 # Rumus konversi dari celcius ke kelvin\n",
        "  print(f'hasil dari konversi suhu {c} C adalah {conv_c} K')\n",
        "conv_kelvin() # Untuk memanggil fungsi"
      ],
      "execution_count": 25,
      "outputs": [
        {
          "output_type": "stream",
          "text": [
            "Konversi Suhu Celcius ke Kelvin\n",
            "Masukan Celcius: 100\n",
            "hasil dari konversi suhu 100 C adalah 373 K\n"
          ],
          "name": "stdout"
        }
      ]
    },
    {
      "cell_type": "code",
      "metadata": {
        "colab": {
          "base_uri": "https://localhost:8080/"
        },
        "id": "kHxHpOlAgiI1",
        "outputId": "419f2547-562d-483f-9f9c-c9d1ae6bc2be"
      },
      "source": [
        "# Konversi C/K ke F\n",
        "\n",
        "def conv_f():\n",
        "  print(\"Konversi Suhu Celcius/Kelvin ke Fahrenheit\")\n",
        "  c = int(input(\"Masukan Celcius: \"))\n",
        "  conv_c = 9 * c / 5 + 32\n",
        "  k = int(input(\"Masukan Kelvin: \"))\n",
        "  conv_k = 9 * k-273 / 5 + 32\n",
        "  print(f'hasil konversi suhu {c} C adalah {conv_c} F')\n",
        "  print(f'hasil konversi suhu {k} K adalah {conv_k} F')\n",
        "conv_f()"
      ],
      "execution_count": 27,
      "outputs": [
        {
          "output_type": "stream",
          "text": [
            "Konversi Suhu Celcius/Kelvin ke Fahrenheit\n",
            "Masukan Celcius: 20\n",
            "Masukan Kelvin: 20\n",
            "hasil konversi suhu 20 C adalah 68.0 F\n",
            "hasil konversi suhu 20 K adalah 157.4 F\n"
          ],
          "name": "stdout"
        }
      ]
    },
    {
      "cell_type": "code",
      "metadata": {
        "colab": {
          "base_uri": "https://localhost:8080/"
        },
        "id": "L1tUf07gjaC5",
        "outputId": "c3599492-ca43-4b0e-da26-c2b33cd15d43"
      },
      "source": [
        "# Konversi Suhu F ke C/K\n",
        "\n",
        "def conv_f_to_ck():\n",
        "  print(\"Konversi Suhu Fahrenheit ke Celcius/Kelvin\")\n",
        "  fc = int(input(\"Masukan Fahrenheit: \"))\n",
        "  conv_c = 5 * (fc-32) / 9\n",
        "  fk = int(input(\"Masukan Fahrenheit: \"))\n",
        "  conv_k = 5 * (fk-32) / 9 +273\n",
        "  print(f'hasil konversi suhu {fc} F adalah {conv_c} C')\n",
        "  print(f\"hasil konversi suhu {fk} F adalah {conv_k} K\")\n",
        "conv_f_to_ck()"
      ],
      "execution_count": 31,
      "outputs": [
        {
          "output_type": "stream",
          "text": [
            "Konversi Suhu Fahrenheit ke Celcius/Kelvin\n",
            "Masukan Fahrenheit: 10\n",
            "Masukan Fahrenheit: 25\n",
            "hasil konversi suhu 10 F adalah -12.222222222222221 C\n",
            "hasil konversi suhu 25 F adalah 269.1111111111111 K\n"
          ],
          "name": "stdout"
        }
      ]
    }
  ]
}