{
 "cells": [
  {
   "cell_type": "code",
   "execution_count": 1,
   "id": "3600f1a0",
   "metadata": {},
   "outputs": [],
   "source": [
    "import numpy as np\n",
    "import sympy as sy"
   ]
  },
  {
   "cell_type": "markdown",
   "id": "d74d2763",
   "metadata": {},
   "source": [
    "# Periksa apakaha W adalah Kombinasi Linear dari V1 dan V2"
   ]
  },
  {
   "cell_type": "code",
   "execution_count": 2,
   "id": "f8adc788",
   "metadata": {},
   "outputs": [
    {
     "data": {
      "text/plain": [
       "(Matrix([\n",
       " [1, 0, 0],\n",
       " [0, 1, 0],\n",
       " [0, 0, 1]]),\n",
       " (0, 1, 2))"
      ]
     },
     "execution_count": 2,
     "metadata": {},
     "output_type": "execute_result"
    }
   ],
   "source": [
    "w = np.array([-4,5,4])\n",
    "\n",
    "v1 = np.array([2,1,0])\n",
    "v2 = np.array([1,3,2])\n",
    "\n",
    "B = sy.Matrix([[2,1,-4],[1,3,5],[0,2,4]])\n",
    "B.rref()"
   ]
  },
  {
   "cell_type": "markdown",
   "id": "810a741a",
   "metadata": {},
   "source": [
    "c1 = 0, c2 = 0, 0 = 1 maka tidak ada solusi karena 0 = 1"
   ]
  },
  {
   "cell_type": "markdown",
   "id": "211fb7e5",
   "metadata": {},
   "source": [
    "# Jika T:V -> W, Transformasi Linear maka buktikan bahwa  T(-U) = -T(U)"
   ]
  },
  {
   "cell_type": "code",
   "execution_count": 3,
   "id": "0fe73eb7",
   "metadata": {},
   "outputs": [
    {
     "data": {
      "text/plain": [
       "array([2, 3, 4])"
      ]
     },
     "execution_count": 3,
     "metadata": {},
     "output_type": "execute_result"
    }
   ],
   "source": [
    "u = np.array([2,3,4])\n",
    "u"
   ]
  },
  {
   "cell_type": "code",
   "execution_count": 4,
   "id": "4fc64367",
   "metadata": {},
   "outputs": [],
   "source": [
    "T = np.array([2,5,5])\n",
    "\n",
    "a = T*(-u)\n",
    "b = -T*(u)"
   ]
  },
  {
   "cell_type": "code",
   "execution_count": 5,
   "id": "5cff087d",
   "metadata": {},
   "outputs": [
    {
     "data": {
      "text/plain": [
       "array([ -4, -15, -20])"
      ]
     },
     "execution_count": 5,
     "metadata": {},
     "output_type": "execute_result"
    }
   ],
   "source": [
    "a"
   ]
  },
  {
   "cell_type": "code",
   "execution_count": 6,
   "id": "4c8e177f",
   "metadata": {},
   "outputs": [
    {
     "data": {
      "text/plain": [
       "array([ -4, -15, -20])"
      ]
     },
     "execution_count": 6,
     "metadata": {},
     "output_type": "execute_result"
    }
   ],
   "source": [
    "b"
   ]
  },
  {
   "cell_type": "markdown",
   "id": "b4d39cdf",
   "metadata": {},
   "source": [
    "a = b , maka T(-u) dan -T(u) adalah sama."
   ]
  }
 ],
 "metadata": {
  "kernelspec": {
   "display_name": "Python 3",
   "language": "python",
   "name": "python3"
  },
  "language_info": {
   "codemirror_mode": {
    "name": "ipython",
    "version": 3
   },
   "file_extension": ".py",
   "mimetype": "text/x-python",
   "name": "python",
   "nbconvert_exporter": "python",
   "pygments_lexer": "ipython3",
   "version": "3.8.8"
  }
 },
 "nbformat": 4,
 "nbformat_minor": 5
}
